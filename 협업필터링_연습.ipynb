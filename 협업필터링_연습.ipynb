{
  "nbformat": 4,
  "nbformat_minor": 0,
  "metadata": {
    "colab": {
      "name": "협업필터링 연습.ipynb",
      "provenance": [],
      "collapsed_sections": [],
      "mount_file_id": "1jRv0QK8XQ-PnTkYD-TbVaeSts1yhtGJM",
      "authorship_tag": "ABX9TyPRCQ3TycKidcld6bdZ1oB8",
      "include_colab_link": true
    },
    "kernelspec": {
      "name": "python3",
      "display_name": "Python 3"
    }
  },
  "cells": [
    {
      "cell_type": "markdown",
      "metadata": {
        "id": "view-in-github",
        "colab_type": "text"
      },
      "source": [
        "<a href=\"https://colab.research.google.com/github/taepd/sba-chatbot/blob/youngdon/%ED%98%91%EC%97%85%ED%95%84%ED%84%B0%EB%A7%81_%EC%97%B0%EC%8A%B5.ipynb\" target=\"_parent\"><img src=\"https://colab.research.google.com/assets/colab-badge.svg\" alt=\"Open In Colab\"/></a>"
      ]
    },
    {
      "cell_type": "code",
      "metadata": {
        "id": "Hv9aCRnWKSr6"
      },
      "source": [
        "import numpy as np\n",
        "import pandas as pd"
      ],
      "execution_count": 1,
      "outputs": []
    },
    {
      "cell_type": "markdown",
      "metadata": {
        "id": "Jvnf5dlMK1JW"
      },
      "source": [
        "\n",
        "- 데이터셋 로드\n",
        "\n",
        "\n",
        "\n",
        "\n"
      ]
    },
    {
      "cell_type": "code",
      "metadata": {
        "id": "0h2vrX4JK0Ea",
        "outputId": "3f644868-e601-4823-b40e-a2ec260ec84c",
        "colab": {
          "base_uri": "https://localhost:8080/"
        }
      },
      "source": [
        "df = pd.read_csv(\"/content/drive/My Drive/Colab Notebooks/ratings.dat\", sep=\"::\", encoding='utf-8')\n"
      ],
      "execution_count": 2,
      "outputs": [
        {
          "output_type": "stream",
          "text": [
            "/usr/local/lib/python3.6/dist-packages/ipykernel_launcher.py:1: ParserWarning: Falling back to the 'python' engine because the 'c' engine does not support regex separators (separators > 1 char and different from '\\s+' are interpreted as regex); you can avoid this warning by specifying engine='python'.\n",
            "  \"\"\"Entry point for launching an IPython kernel.\n"
          ],
          "name": "stderr"
        }
      ]
    },
    {
      "cell_type": "code",
      "metadata": {
        "id": "XdPl5Vo9NKBH",
        "outputId": "d24bc6c5-0760-43ab-c1a5-d2d5e739df72",
        "colab": {
          "base_uri": "https://localhost:8080/",
          "height": 204
        }
      },
      "source": [
        "df.head()"
      ],
      "execution_count": 4,
      "outputs": [
        {
          "output_type": "execute_result",
          "data": {
            "text/html": [
              "<div>\n",
              "<style scoped>\n",
              "    .dataframe tbody tr th:only-of-type {\n",
              "        vertical-align: middle;\n",
              "    }\n",
              "\n",
              "    .dataframe tbody tr th {\n",
              "        vertical-align: top;\n",
              "    }\n",
              "\n",
              "    .dataframe thead th {\n",
              "        text-align: right;\n",
              "    }\n",
              "</style>\n",
              "<table border=\"1\" class=\"dataframe\">\n",
              "  <thead>\n",
              "    <tr style=\"text-align: right;\">\n",
              "      <th></th>\n",
              "      <th>1</th>\n",
              "      <th>1193</th>\n",
              "      <th>5</th>\n",
              "      <th>978300760</th>\n",
              "    </tr>\n",
              "  </thead>\n",
              "  <tbody>\n",
              "    <tr>\n",
              "      <th>0</th>\n",
              "      <td>1</td>\n",
              "      <td>661</td>\n",
              "      <td>3</td>\n",
              "      <td>978302109</td>\n",
              "    </tr>\n",
              "    <tr>\n",
              "      <th>1</th>\n",
              "      <td>1</td>\n",
              "      <td>914</td>\n",
              "      <td>3</td>\n",
              "      <td>978301968</td>\n",
              "    </tr>\n",
              "    <tr>\n",
              "      <th>2</th>\n",
              "      <td>1</td>\n",
              "      <td>3408</td>\n",
              "      <td>4</td>\n",
              "      <td>978300275</td>\n",
              "    </tr>\n",
              "    <tr>\n",
              "      <th>3</th>\n",
              "      <td>1</td>\n",
              "      <td>2355</td>\n",
              "      <td>5</td>\n",
              "      <td>978824291</td>\n",
              "    </tr>\n",
              "    <tr>\n",
              "      <th>4</th>\n",
              "      <td>1</td>\n",
              "      <td>1197</td>\n",
              "      <td>3</td>\n",
              "      <td>978302268</td>\n",
              "    </tr>\n",
              "  </tbody>\n",
              "</table>\n",
              "</div>"
            ],
            "text/plain": [
              "   1  1193  5  978300760\n",
              "0  1   661  3  978302109\n",
              "1  1   914  3  978301968\n",
              "2  1  3408  4  978300275\n",
              "3  1  2355  5  978824291\n",
              "4  1  1197  3  978302268"
            ]
          },
          "metadata": {
            "tags": []
          },
          "execution_count": 4
        }
      ]
    },
    {
      "cell_type": "markdown",
      "metadata": {
        "id": "NVxHRBwfNUNw"
      },
      "source": [
        "- 컬럼명 추가\n"
      ]
    },
    {
      "cell_type": "code",
      "metadata": {
        "id": "RjIU9Qk6NOd-",
        "outputId": "d811ab16-946c-46be-a724-51e8b3fd8dae",
        "colab": {
          "base_uri": "https://localhost:8080/",
          "height": 204
        }
      },
      "source": [
        "df.columns = [\"user_id\", \"item_id\", \"rating\", \"timestamp\"]\n",
        "df.head()"
      ],
      "execution_count": 3,
      "outputs": [
        {
          "output_type": "execute_result",
          "data": {
            "text/html": [
              "<div>\n",
              "<style scoped>\n",
              "    .dataframe tbody tr th:only-of-type {\n",
              "        vertical-align: middle;\n",
              "    }\n",
              "\n",
              "    .dataframe tbody tr th {\n",
              "        vertical-align: top;\n",
              "    }\n",
              "\n",
              "    .dataframe thead th {\n",
              "        text-align: right;\n",
              "    }\n",
              "</style>\n",
              "<table border=\"1\" class=\"dataframe\">\n",
              "  <thead>\n",
              "    <tr style=\"text-align: right;\">\n",
              "      <th></th>\n",
              "      <th>user_id</th>\n",
              "      <th>item_id</th>\n",
              "      <th>rating</th>\n",
              "      <th>timestamp</th>\n",
              "    </tr>\n",
              "  </thead>\n",
              "  <tbody>\n",
              "    <tr>\n",
              "      <th>0</th>\n",
              "      <td>1</td>\n",
              "      <td>661</td>\n",
              "      <td>3</td>\n",
              "      <td>978302109</td>\n",
              "    </tr>\n",
              "    <tr>\n",
              "      <th>1</th>\n",
              "      <td>1</td>\n",
              "      <td>914</td>\n",
              "      <td>3</td>\n",
              "      <td>978301968</td>\n",
              "    </tr>\n",
              "    <tr>\n",
              "      <th>2</th>\n",
              "      <td>1</td>\n",
              "      <td>3408</td>\n",
              "      <td>4</td>\n",
              "      <td>978300275</td>\n",
              "    </tr>\n",
              "    <tr>\n",
              "      <th>3</th>\n",
              "      <td>1</td>\n",
              "      <td>2355</td>\n",
              "      <td>5</td>\n",
              "      <td>978824291</td>\n",
              "    </tr>\n",
              "    <tr>\n",
              "      <th>4</th>\n",
              "      <td>1</td>\n",
              "      <td>1197</td>\n",
              "      <td>3</td>\n",
              "      <td>978302268</td>\n",
              "    </tr>\n",
              "  </tbody>\n",
              "</table>\n",
              "</div>"
            ],
            "text/plain": [
              "   user_id  item_id  rating  timestamp\n",
              "0        1      661       3  978302109\n",
              "1        1      914       3  978301968\n",
              "2        1     3408       4  978300275\n",
              "3        1     2355       5  978824291\n",
              "4        1     1197       3  978302268"
            ]
          },
          "metadata": {
            "tags": []
          },
          "execution_count": 3
        }
      ]
    },
    {
      "cell_type": "markdown",
      "metadata": {
        "id": "6mAtZ4rPNj_o"
      },
      "source": [
        "- shape 확인"
      ]
    },
    {
      "cell_type": "code",
      "metadata": {
        "id": "jvaMIhbeNoEQ",
        "outputId": "b150e360-22c3-4079-86ae-df6149c65298",
        "colab": {
          "base_uri": "https://localhost:8080/"
        }
      },
      "source": [
        "df.shape"
      ],
      "execution_count": 6,
      "outputs": [
        {
          "output_type": "execute_result",
          "data": {
            "text/plain": [
              "(1000208, 4)"
            ]
          },
          "metadata": {
            "tags": []
          },
          "execution_count": 6
        }
      ]
    },
    {
      "cell_type": "markdown",
      "metadata": {
        "id": "T8CPARdbVLJN"
      },
      "source": [
        "- groupby로 rating 별 user_id를 count"
      ]
    },
    {
      "cell_type": "code",
      "metadata": {
        "id": "unJmPAmpVU-m",
        "outputId": "22d10b1d-0ff6-4e23-b91f-bb20740604de",
        "colab": {
          "base_uri": "https://localhost:8080/",
          "height": 235
        }
      },
      "source": [
        "df.groupby([\"rating\"])[[\"user_id\"]].count()"
      ],
      "execution_count": 7,
      "outputs": [
        {
          "output_type": "execute_result",
          "data": {
            "text/html": [
              "<div>\n",
              "<style scoped>\n",
              "    .dataframe tbody tr th:only-of-type {\n",
              "        vertical-align: middle;\n",
              "    }\n",
              "\n",
              "    .dataframe tbody tr th {\n",
              "        vertical-align: top;\n",
              "    }\n",
              "\n",
              "    .dataframe thead th {\n",
              "        text-align: right;\n",
              "    }\n",
              "</style>\n",
              "<table border=\"1\" class=\"dataframe\">\n",
              "  <thead>\n",
              "    <tr style=\"text-align: right;\">\n",
              "      <th></th>\n",
              "      <th>user_id</th>\n",
              "    </tr>\n",
              "    <tr>\n",
              "      <th>rating</th>\n",
              "      <th></th>\n",
              "    </tr>\n",
              "  </thead>\n",
              "  <tbody>\n",
              "    <tr>\n",
              "      <th>1</th>\n",
              "      <td>56174</td>\n",
              "    </tr>\n",
              "    <tr>\n",
              "      <th>2</th>\n",
              "      <td>107557</td>\n",
              "    </tr>\n",
              "    <tr>\n",
              "      <th>3</th>\n",
              "      <td>261197</td>\n",
              "    </tr>\n",
              "    <tr>\n",
              "      <th>4</th>\n",
              "      <td>348971</td>\n",
              "    </tr>\n",
              "    <tr>\n",
              "      <th>5</th>\n",
              "      <td>226309</td>\n",
              "    </tr>\n",
              "  </tbody>\n",
              "</table>\n",
              "</div>"
            ],
            "text/plain": [
              "        user_id\n",
              "rating         \n",
              "1         56174\n",
              "2        107557\n",
              "3        261197\n",
              "4        348971\n",
              "5        226309"
            ]
          },
          "metadata": {
            "tags": []
          },
          "execution_count": 7
        }
      ]
    },
    {
      "cell_type": "markdown",
      "metadata": {
        "id": "vMpFtmN1VwJt"
      },
      "source": [
        "- groupby로 item_id 별 user_id를 count"
      ]
    },
    {
      "cell_type": "code",
      "metadata": {
        "id": "vXQ8LXh9V2GF",
        "outputId": "9f570a80-58e8-4748-f9a1-45f412b82910",
        "colab": {
          "base_uri": "https://localhost:8080/",
          "height": 235
        }
      },
      "source": [
        "df.groupby([\"item_id\"])[[\"user_id\"]].count().head()"
      ],
      "execution_count": 8,
      "outputs": [
        {
          "output_type": "execute_result",
          "data": {
            "text/html": [
              "<div>\n",
              "<style scoped>\n",
              "    .dataframe tbody tr th:only-of-type {\n",
              "        vertical-align: middle;\n",
              "    }\n",
              "\n",
              "    .dataframe tbody tr th {\n",
              "        vertical-align: top;\n",
              "    }\n",
              "\n",
              "    .dataframe thead th {\n",
              "        text-align: right;\n",
              "    }\n",
              "</style>\n",
              "<table border=\"1\" class=\"dataframe\">\n",
              "  <thead>\n",
              "    <tr style=\"text-align: right;\">\n",
              "      <th></th>\n",
              "      <th>user_id</th>\n",
              "    </tr>\n",
              "    <tr>\n",
              "      <th>item_id</th>\n",
              "      <th></th>\n",
              "    </tr>\n",
              "  </thead>\n",
              "  <tbody>\n",
              "    <tr>\n",
              "      <th>1</th>\n",
              "      <td>2077</td>\n",
              "    </tr>\n",
              "    <tr>\n",
              "      <th>2</th>\n",
              "      <td>701</td>\n",
              "    </tr>\n",
              "    <tr>\n",
              "      <th>3</th>\n",
              "      <td>478</td>\n",
              "    </tr>\n",
              "    <tr>\n",
              "      <th>4</th>\n",
              "      <td>170</td>\n",
              "    </tr>\n",
              "    <tr>\n",
              "      <th>5</th>\n",
              "      <td>296</td>\n",
              "    </tr>\n",
              "  </tbody>\n",
              "</table>\n",
              "</div>"
            ],
            "text/plain": [
              "         user_id\n",
              "item_id         \n",
              "1           2077\n",
              "2            701\n",
              "3            478\n",
              "4            170\n",
              "5            296"
            ]
          },
          "metadata": {
            "tags": []
          },
          "execution_count": 8
        }
      ]
    },
    {
      "cell_type": "markdown",
      "metadata": {
        "id": "b9awuuiDNwlI"
      },
      "source": [
        "- 중복 제거한 user_id 리스트 생성\n",
        "- user_id를 중복을 제거해서 count"
      ]
    },
    {
      "cell_type": "code",
      "metadata": {
        "id": "FjWsNbzMNwTg",
        "outputId": "de0684c4-2b89-4fef-b5b9-69a45ea52730",
        "colab": {
          "base_uri": "https://localhost:8080/"
        }
      },
      "source": [
        "unique_user_list = df.user_id.unique()\n",
        "n_users = unique_user_list.shape[0]\n",
        "print(unique_user_list)\n",
        "n_users"
      ],
      "execution_count": 4,
      "outputs": [
        {
          "output_type": "stream",
          "text": [
            "[   1    2    3 ... 6038 6039 6040]\n"
          ],
          "name": "stdout"
        },
        {
          "output_type": "execute_result",
          "data": {
            "text/plain": [
              "6040"
            ]
          },
          "metadata": {
            "tags": []
          },
          "execution_count": 4
        }
      ]
    },
    {
      "cell_type": "markdown",
      "metadata": {
        "id": "4MDwZnQLOWwK"
      },
      "source": [
        "- item_id를 중복을 제거\n",
        "   - item_id는 dense하지 않으므로 가장 큰 item_id값에 맞춰서 크기 설정"
      ]
    },
    {
      "cell_type": "code",
      "metadata": {
        "id": "K9_TQmRgOevM",
        "outputId": "1d693b39-e5bf-41bf-fad1-ac228b3a7d0f",
        "colab": {
          "base_uri": "https://localhost:8080/"
        }
      },
      "source": [
        "unique_item_list = df.item_id.unique()\n",
        "n_items = np.max(unique_item_list)\n",
        "print(unique_item_list)\n",
        "print(np.sort(unique_item_list))\n",
        "n_items"
      ],
      "execution_count": 5,
      "outputs": [
        {
          "output_type": "stream",
          "text": [
            "[ 661  914 3408 ... 2845 3607 2909]\n",
            "[   1    2    3 ... 3950 3951 3952]\n"
          ],
          "name": "stdout"
        },
        {
          "output_type": "execute_result",
          "data": {
            "text/plain": [
              "3952"
            ]
          },
          "metadata": {
            "tags": []
          },
          "execution_count": 5
        }
      ]
    },
    {
      "cell_type": "markdown",
      "metadata": {
        "id": "MXqi5efdOm3Y"
      },
      "source": [
        "- shape(n_users, n_items) ratings 영행렬의 평가행렬 생성"
      ]
    },
    {
      "cell_type": "code",
      "metadata": {
        "id": "Eq4q8MjfPRpv",
        "outputId": "718a1655-3473-49a1-d6ff-40d12047586b",
        "colab": {
          "base_uri": "https://localhost:8080/"
        }
      },
      "source": [
        "ratings = np.zeros((n_users, n_items))\n",
        "ratings.shape"
      ],
      "execution_count": 6,
      "outputs": [
        {
          "output_type": "execute_result",
          "data": {
            "text/plain": [
              "(6040, 3952)"
            ]
          },
          "metadata": {
            "tags": []
          },
          "execution_count": 6
        }
      ]
    },
    {
      "cell_type": "markdown",
      "metadata": {
        "id": "XYG2a1BjPxqf"
      },
      "source": [
        "- ratings를 sparse matrix 형태로 구성\n",
        "- df.itertuples(): dataframe의 각 행을 Pandas 객체로 리턴\n",
        "  - 컬럼명으로도 접근 가능하고, 인덱스로도 접근 가능\n",
        "  - 단, 인덱스는 0부터 시작하므로 -1씩 해준다.\n"
      ]
    },
    {
      "cell_type": "code",
      "metadata": {
        "id": "nDgiGNQBQbno",
        "outputId": "58a65d05-6e93-4b35-ed6f-8fd62d3d6f2c",
        "colab": {
          "base_uri": "https://localhost:8080/"
        }
      },
      "source": [
        "for row in df.itertuples():\n",
        "    ratings[row[1]-1, row[2]-1] = row[3]\n",
        "\n",
        "ratings"
      ],
      "execution_count": 7,
      "outputs": [
        {
          "output_type": "execute_result",
          "data": {
            "text/plain": [
              "array([[5., 0., 0., ..., 0., 0., 0.],\n",
              "       [0., 0., 0., ..., 0., 0., 0.],\n",
              "       [0., 0., 0., ..., 0., 0., 0.],\n",
              "       ...,\n",
              "       [0., 0., 0., ..., 0., 0., 0.],\n",
              "       [0., 0., 0., ..., 0., 0., 0.],\n",
              "       [3., 0., 0., ..., 0., 0., 0.]])"
            ]
          },
          "metadata": {
            "tags": []
          },
          "execution_count": 7
        }
      ]
    },
    {
      "cell_type": "markdown",
      "metadata": {
        "id": "Q2husUPQ44aQ"
      },
      "source": [
        "- scikit-learn 라이브러리를 활용해 훈련 데이터와 테스트 데이터를 분리"
      ]
    },
    {
      "cell_type": "code",
      "metadata": {
        "id": "nPgC2psz5Hs0"
      },
      "source": [
        "from sklearn.model_selection import train_test_split\n",
        "# random_state: seed 부여 랜덤하게 만들되, 해당 시드일 경우는 항상 같음\n",
        "ratings_train, ratings_test = train_test_split(ratings, test_size=0.33, random_state=37)"
      ],
      "execution_count": 23,
      "outputs": []
    },
    {
      "cell_type": "code",
      "metadata": {
        "id": "qW7S9hPG5wPb",
        "outputId": "594225dc-1cd6-4893-efaf-4062d8b04999",
        "colab": {
          "base_uri": "https://localhost:8080/"
        }
      },
      "source": [
        "print(ratings_train)\n",
        "ratings_train.shape"
      ],
      "execution_count": 25,
      "outputs": [
        {
          "output_type": "stream",
          "text": [
            "[[0. 0. 0. ... 0. 0. 0.]\n",
            " [0. 0. 0. ... 0. 0. 0.]\n",
            " [0. 0. 0. ... 0. 0. 0.]\n",
            " ...\n",
            " [0. 0. 0. ... 0. 0. 0.]\n",
            " [0. 0. 0. ... 0. 0. 0.]\n",
            " [0. 0. 0. ... 0. 0. 0.]]\n"
          ],
          "name": "stdout"
        },
        {
          "output_type": "execute_result",
          "data": {
            "text/plain": [
              "(4046, 3952)"
            ]
          },
          "metadata": {
            "tags": []
          },
          "execution_count": 25
        }
      ]
    },
    {
      "cell_type": "markdown",
      "metadata": {
        "id": "3Mzu0fgG6YxK"
      },
      "source": [
        "- 사용자 간 유사도 행렬 생성\n",
        "- 코사인 유사도를 사용\n",
        "  - cosine_distances는 유사할수록 값이 0에 가까움\n",
        "  - cosine_similarity는 유사할수록 값이 1에 가까움\n",
        "    - cosine_similarty = 1- cosine_distances"
      ]
    },
    {
      "cell_type": "code",
      "metadata": {
        "id": "kKw1vm5c6dGi",
        "outputId": "3f6e0f8c-6e38-4225-e28a-a0d471b63f60",
        "colab": {
          "base_uri": "https://localhost:8080/"
        }
      },
      "source": [
        "from sklearn.metrics.pairwise import cosine_similarity, cosine_distances\n",
        "\n",
        "user_similarity = cosine_similarity(ratings_train)\n",
        "user_similarity"
      ],
      "execution_count": 15,
      "outputs": [
        {
          "output_type": "execute_result",
          "data": {
            "text/plain": [
              "array([[1.        , 0.16332531, 0.15564215, ..., 0.1268875 , 0.16999306,\n",
              "        0.07643071],\n",
              "       [0.16332531, 1.        , 0.02907329, ..., 0.01693003, 0.        ,\n",
              "        0.04150271],\n",
              "       [0.15564215, 0.02907329, 1.        , ..., 0.20570353, 0.18383079,\n",
              "        0.09254779],\n",
              "       ...,\n",
              "       [0.1268875 , 0.01693003, 0.20570353, ..., 1.        , 0.11497834,\n",
              "        0.09120296],\n",
              "       [0.16999306, 0.        , 0.18383079, ..., 0.11497834, 1.        ,\n",
              "        0.04665282],\n",
              "       [0.07643071, 0.04150271, 0.09254779, ..., 0.09120296, 0.04665282,\n",
              "        1.        ]])"
            ]
          },
          "metadata": {
            "tags": []
          },
          "execution_count": 15
        }
      ]
    },
    {
      "cell_type": "markdown",
      "metadata": {
        "id": "o4CULN-S70bz"
      },
      "source": [
        "## 평가 예측"
      ]
    },
    {
      "cell_type": "markdown",
      "metadata": {
        "id": "8zVJeCwE9E8j"
      },
      "source": [
        "- 트레이닝 행렬과 사용자간 유사도 행렬간 내적연산(dot())을 함"
      ]
    },
    {
      "cell_type": "code",
      "metadata": {
        "id": "dhDEniuN73hx",
        "outputId": "86fb0bbb-09a6-4a51-9f82-f23a7bf4170f",
        "colab": {
          "base_uri": "https://localhost:8080/"
        }
      },
      "source": [
        "print('사용자간 유사도 행렬:', user_similarity.shape)\n",
        "print('트레이닝 행렬:', ratings_train.shape)\n",
        "user_similarity_dot_ratings_train = user_similarity.dot(ratings_train)"
      ],
      "execution_count": 16,
      "outputs": [
        {
          "output_type": "stream",
          "text": [
            "사용자간 유사도 행렬: (4046, 4046)\n",
            "트레이닝 행렬: (4046, 3952)\n"
          ],
          "name": "stdout"
        }
      ]
    },
    {
      "cell_type": "markdown",
      "metadata": {
        "id": "slBw8AQO9TWC"
      },
      "source": [
        "- 사용자간 유사도 행렬의 열(axis=1)로 즉, 아이템을 기준으로 모두 더해준 array를 생성"
      ]
    },
    {
      "cell_type": "code",
      "metadata": {
        "id": "D95DHpXq96Px",
        "outputId": "f0ad30fa-4ceb-4078-bf30-8c1c041c30b5",
        "colab": {
          "base_uri": "https://localhost:8080/"
        }
      },
      "source": [
        "sum_by_item_id_array = np.array([np.abs(user_similarity).sum(axis=1)])\n",
        "print(sum_by_item_id_array.shape)\n",
        "sum_by_item_id_array"
      ],
      "execution_count": 17,
      "outputs": [
        {
          "output_type": "stream",
          "text": [
            "(1, 4046)\n"
          ],
          "name": "stdout"
        },
        {
          "output_type": "execute_result",
          "data": {
            "text/plain": [
              "array([[585.8834592 , 424.7353442 , 444.8792355 , ..., 551.71433632,\n",
              "        504.70031636, 236.6528167 ]])"
            ]
          },
          "metadata": {
            "tags": []
          },
          "execution_count": 17
        }
      ]
    },
    {
      "cell_type": "markdown",
      "metadata": {
        "id": "hTt3oGwa-ZS0"
      },
      "source": [
        "- 예측값을 user_similarity_dot_ratings_train에 sum_by_item_id_array를 전치하여 나누어 계산\n",
        "- 즉, 유사도에 따라 가중치를 부여하여 item_id에 따른 유사도 합으로 나누어주어 예측값 생성\n",
        "\n",
        "\n"
      ]
    },
    {
      "cell_type": "code",
      "metadata": {
        "id": "u3X_9bv1_r_q",
        "outputId": "cf59e5ef-ff34-485d-b316-b2f766208cc5",
        "colab": {
          "base_uri": "https://localhost:8080/"
        }
      },
      "source": [
        "user_pred = user_similarity_dot_ratings_train / sum_by_item_id_array.T\n",
        "print(user_pred.shape)\n",
        "user_pred"
      ],
      "execution_count": 18,
      "outputs": [
        {
          "output_type": "stream",
          "text": [
            "(4046, 3952)\n"
          ],
          "name": "stdout"
        },
        {
          "output_type": "execute_result",
          "data": {
            "text/plain": [
              "array([[1.68895336, 0.50379711, 0.29182767, ..., 0.03816307, 0.02028697,\n",
              "        0.25616819],\n",
              "       [1.79553346, 0.50003617, 0.29031143, ..., 0.04325957, 0.02027759,\n",
              "        0.26266574],\n",
              "       [1.65079625, 0.43592557, 0.29733319, ..., 0.04376734, 0.02937503,\n",
              "        0.28239199],\n",
              "       ...,\n",
              "       [1.68775123, 0.40260552, 0.27259654, ..., 0.04694083, 0.02995773,\n",
              "        0.31211325],\n",
              "       [1.85444198, 0.56200933, 0.38157914, ..., 0.04985682, 0.02462044,\n",
              "        0.29571103],\n",
              "       [1.48862241, 0.38430593, 0.34920859, ..., 0.05290756, 0.04211202,\n",
              "        0.36622238]])"
            ]
          },
          "metadata": {
            "tags": []
          },
          "execution_count": 18
        }
      ]
    },
    {
      "cell_type": "markdown",
      "metadata": {
        "id": "e85S6NYdA-p9"
      },
      "source": [
        " ## 모델의 성능 평가"
      ]
    },
    {
      "cell_type": "markdown",
      "metadata": {
        "id": "wumwvHozBDy5"
      },
      "source": [
        "- RMSE(mean_squared_error)로 성능 평가(오차 계산)"
      ]
    },
    {
      "cell_type": "markdown",
      "metadata": {
        "id": "oCq_trxVBqUo"
      },
      "source": [
        "- scikit-learn을 활용해 MSE 함수 구현 \n",
        "- 예측 행렬과 트레이닝 행렬의 요소 중 0이 아닌 값들을 뽑아서 mean_squared_error()에 인자로 넣어줌\n",
        "  - numpy nonzero()메소드를 이용해 트레이닝 행렬의 nonzero 요소값을 구하고, 예측 행렬과 트레이닝 행렬에서 이를 만족하는 요소들의 array를 만듬"
      ]
    },
    {
      "cell_type": "code",
      "metadata": {
        "id": "BfqLbPHxEil5",
        "outputId": "8893e3e9-d9b8-43d9-f2e7-9232443e01a1",
        "colab": {
          "base_uri": "https://localhost:8080/"
        }
      },
      "source": [
        "print(user_pred[ratings_train.nonzero()].shape) # array이기 때문에 flatton()하지 않아도 됨\n",
        "user_pred[ratings_train.nonzero()].shape"
      ],
      "execution_count": 19,
      "outputs": [
        {
          "output_type": "stream",
          "text": [
            "(675264,)\n"
          ],
          "name": "stdout"
        },
        {
          "output_type": "execute_result",
          "data": {
            "text/plain": [
              "(675264,)"
            ]
          },
          "metadata": {
            "tags": []
          },
          "execution_count": 19
        }
      ]
    },
    {
      "cell_type": "code",
      "metadata": {
        "id": "ItDFqx6SBASC"
      },
      "source": [
        "from sklearn.metrics import mean_squared_error\n",
        "\n",
        "def get_mse(pred, actual):\n",
        "  pred = pred[actual.nonzero()]\n",
        "  actual = actual[actual.nonzero()]\n",
        "  return mean_squared_error(pred, actual)"
      ],
      "execution_count": 34,
      "outputs": []
    },
    {
      "cell_type": "markdown",
      "metadata": {
        "id": "VX2idfYlzbJD"
      },
      "source": [
        "- RMSE 측정\n",
        "- 트레이닝 오차"
      ]
    },
    {
      "cell_type": "code",
      "metadata": {
        "id": "-JD9_jgpzt6J",
        "outputId": "75f62866-f7d1-49a5-b466-497d071194d2",
        "colab": {
          "base_uri": "https://localhost:8080/"
        }
      },
      "source": [
        "np.sqrt(get_mse(user_pred, ratings_train))"
      ],
      "execution_count": 21,
      "outputs": [
        {
          "output_type": "execute_result",
          "data": {
            "text/plain": [
              "3.0354269774044904"
            ]
          },
          "metadata": {
            "tags": []
          },
          "execution_count": 21
        }
      ]
    },
    {
      "cell_type": "markdown",
      "metadata": {
        "id": "eXkFwTAsD22G"
      },
      "source": [
        "- 테스트 오차"
      ]
    },
    {
      "cell_type": "code",
      "metadata": {
        "id": "TbCOfCa4D5u1",
        "outputId": "72ad3aca-b1af-40fd-8405-6323cb34336a",
        "colab": {
          "base_uri": "https://localhost:8080/"
        }
      },
      "source": [
        "np.sqrt(get_mse(user_pred, ratings_test))"
      ],
      "execution_count": 22,
      "outputs": [
        {
          "output_type": "execute_result",
          "data": {
            "text/plain": [
              "3.123936391794805"
            ]
          },
          "metadata": {
            "tags": []
          },
          "execution_count": 22
        }
      ]
    },
    {
      "cell_type": "markdown",
      "metadata": {
        "id": "aEIJJogCFIEk"
      },
      "source": [
        "## 모든 트레이닝 세트 샘플을 대상으로 예측을 한 결과 오차가 너무 크게 나옴. 따라서 타겟과 가장 유사한 n개의 샘플을 대상을 선택하여 예측 시도"
      ]
    },
    {
      "cell_type": "markdown",
      "metadata": {
        "id": "k-u1gIUqKwDq"
      },
      "source": [
        "- NearestNeighbors: knn과 유사하나 비지도 방식\n",
        "  - 코사인 유사도로 측정"
      ]
    },
    {
      "cell_type": "code",
      "metadata": {
        "id": "g86gqKN8K5dR",
        "outputId": "052685df-e94c-4741-be19-d43c428185e5",
        "colab": {
          "base_uri": "https://localhost:8080/"
        }
      },
      "source": [
        "from sklearn.neighbors import NearestNeighbors\n",
        "\n",
        "k = 100\n",
        "\n",
        "neigh = NearestNeighbors(n_neighbors=k, metric=\"cosine\")\n",
        "\n",
        "neigh.fit(ratings_train)"
      ],
      "execution_count": 10,
      "outputs": [
        {
          "output_type": "execute_result",
          "data": {
            "text/plain": [
              "NearestNeighbors(algorithm='auto', leaf_size=30, metric='cosine',\n",
              "                 metric_params=None, n_jobs=None, n_neighbors=100, p=2,\n",
              "                 radius=1.0)"
            ]
          },
          "metadata": {
            "tags": []
          },
          "execution_count": 10
        }
      ]
    },
    {
      "cell_type": "code",
      "metadata": {
        "id": "if6ubxoZMR_w",
        "outputId": "64eab061-fdcb-41f1-dcec-0fe904414339",
        "colab": {
          "base_uri": "https://localhost:8080/"
        }
      },
      "source": [
        "top_k_distances, top_k_users = neigh.kneighbors(ratings_train, return_distance=True)\n",
        "\n",
        "print(top_k_distances)\n",
        "print(top_k_users)\n",
        "print(top_k_distances.shape)\n",
        "print(top_k_users.shape)"
      ],
      "execution_count": 24,
      "outputs": [
        {
          "output_type": "stream",
          "text": [
            "[[0.         0.54744567 0.56686352 ... 0.69492561 0.6950103  0.69507526]\n",
            " [0.         0.58697903 0.60829454 ... 0.75019329 0.75022381 0.7505434 ]\n",
            " [0.         0.5577343  0.57337391 ... 0.73184394 0.73188588 0.73192529]\n",
            " ...\n",
            " [0.         0.52406512 0.58125917 ... 0.70387883 0.70417809 0.70430272]\n",
            " [0.         0.54335305 0.56555768 ... 0.69613884 0.69619714 0.69747499]\n",
            " [0.         0.61894678 0.64071109 ... 0.82329665 0.82355578 0.82411754]]\n",
            "[[   0 3437 2078 ... 1748 2753 3825]\n",
            " [   1 4022 3976 ... 4035  635 3729]\n",
            " [   2 3301 2989 ... 2178 1634 1999]\n",
            " ...\n",
            " [4043  363  267 ... 1159 3413 1370]\n",
            " [4044 1987 3448 ... 1311  422  539]\n",
            " [4045 3788 3414 ... 3302  375  753]]\n",
            "(4046, 100)\n",
            "(4046, 100)\n"
          ],
          "name": "stdout"
        }
      ]
    },
    {
      "cell_type": "markdown",
      "metadata": {
        "id": "2z9X3AdrNkTQ"
      },
      "source": [
        "- 선택된 n명의 사용자들의 평가 가중치 합을 사용한 예측 및 모델의 성능 측정"
      ]
    },
    {
      "cell_type": "markdown",
      "metadata": {
        "id": "arU-4L0MXtgf"
      },
      "source": [
        "- shape 체크 부분(흐름과 상관없음)"
      ]
    },
    {
      "cell_type": "code",
      "metadata": {
        "id": "rKPmu6pxQz65",
        "outputId": "ff5fb9bc-fccf-4358-9d3e-e5290bb48695",
        "colab": {
          "base_uri": "https://localhost:8080/"
        }
      },
      "source": [
        "print(np.array([np.abs(top_k_distances[1]).sum()]))\n",
        "print(np.array([np.abs(top_k_distances[1].T).sum(axis=0)]).shape)\n",
        "np.array([np.abs(top_k_distances[1].T).sum(axis=0)]).T.shape\n",
        "print(top_k_distances[1].T.shape)\n",
        "print(ratings_train[top_k_users[1]].shape)\n",
        "# top_k_distances[i].T.dot(ratings_train[top_k_users][i]).shape"
      ],
      "execution_count": 25,
      "outputs": [
        {
          "output_type": "stream",
          "text": [
            "[71.1230402]\n",
            "(1,)\n",
            "(100,)\n",
            "(100, 3952)\n"
          ],
          "name": "stdout"
        }
      ]
    },
    {
      "cell_type": "markdown",
      "metadata": {
        "id": "5U_O_uVyYizV"
      },
      "source": [
        "- 한 줄씩 계산하므로 벡터이기 때문에 굳이 전치하지 않아도 결과는 같다"
      ]
    },
    {
      "cell_type": "code",
      "metadata": {
        "id": "Mtk5xNLiX2PN"
      },
      "source": [
        "# user_pred_k_1 = top_k_distances[1].dot(ratings_train[top_k_users][1]) / \\\n",
        "#                       np.array([np.abs(top_k_distances[1]).sum(axis=0)])\n",
        "# print(user_pred_k_1)\n",
        "# user_pred_k_2 = top_k_distances[1].T.dot(ratings_train[top_k_users][1]) / \\\n",
        "#                       np.array([np.abs(top_k_distances[1].T).sum(axis=0)]).T\n",
        "# print(user_pred_k_2)\n",
        "# (user_pred_k_1 == user_pred_k_2).min()"
      ],
      "execution_count": 26,
      "outputs": []
    },
    {
      "cell_type": "code",
      "metadata": {
        "id": "q-FzGPjaTSJo",
        "outputId": "8a3372cf-eccf-4ba6-8e6f-04d414ea8b44",
        "colab": {
          "base_uri": "https://localhost:8080/"
        }
      },
      "source": [
        "user_pred_k = np.zeros(ratings_train.shape)\n",
        "user_pred_k.shape"
      ],
      "execution_count": 27,
      "outputs": [
        {
          "output_type": "execute_result",
          "data": {
            "text/plain": [
              "(4046, 3952)"
            ]
          },
          "metadata": {
            "tags": []
          },
          "execution_count": 27
        }
      ]
    },
    {
      "cell_type": "code",
      "metadata": {
        "id": "1bqlFrRgNrIp",
        "outputId": "a9a684d6-f514-4aa3-f398-7e0490533ba8",
        "colab": {
          "base_uri": "https://localhost:8080/"
        }
      },
      "source": [
        "\n",
        "for i in range(ratings_train.shape[0]):  # 4046: 테스트 샘플 수\n",
        "  if i%50 == 0: # 계산이 오래 걸리므로 카운터 체크\n",
        "    print(\"cnt = \", i)\n",
        "  # top_k_distances[i].T.shape = (5, )\n",
        "  # ratings_train[top_k_users[i]] = (5, 3952)\n",
        "  # user_pred_k[i, :] = top_k_distances[i].T.dot(ratings_train[top_k_users][i]) / \\\n",
        "  #                     np.array([np.abs(top_k_distances[i].T).sum(axis=0)]).T                    \n",
        "  user_pred_k_1 = top_k_distances[1].dot(ratings_train[top_k_users][1]) / \\\n",
        "                      np.array([np.abs(top_k_distances[1]).sum(axis=0)])                                        "
      ],
      "execution_count": null,
      "outputs": [
        {
          "output_type": "stream",
          "text": [
            "cnt =  0\n"
          ],
          "name": "stdout"
        }
      ]
    },
    {
      "cell_type": "markdown",
      "metadata": {
        "id": "w0YyMccwUHO_"
      },
      "source": [
        "- RMSE 측정\n",
        "- 트레이닝 오차"
      ]
    },
    {
      "cell_type": "code",
      "metadata": {
        "id": "4a3EsI7yUIsu"
      },
      "source": [
        "np.sqrt(get_mse(user_pred_k, ratings_train))"
      ],
      "execution_count": null,
      "outputs": []
    },
    {
      "cell_type": "markdown",
      "metadata": {
        "id": "2ltoYJKtUPYp"
      },
      "source": [
        "- 테스트 오차"
      ]
    },
    {
      "cell_type": "code",
      "metadata": {
        "id": "Kc-uZkU4USCf"
      },
      "source": [
        "np.sqrt(get_mse(user_pred_k, ratings_test))"
      ],
      "execution_count": null,
      "outputs": []
    },
    {
      "cell_type": "markdown",
      "metadata": {
        "id": "VOJsUPpXHrFZ"
      },
      "source": [
        "## 아이템 기반 협업 필터링 사용 추천 엔진"
      ]
    },
    {
      "cell_type": "markdown",
      "metadata": {
        "id": "HMak7doTHzNI"
      },
      "source": [
        "- 영화의 수를 k로 사용해 영화 간 유사도 행렬 계산"
      ]
    },
    {
      "cell_type": "code",
      "metadata": {
        "id": "EV8qco0HH2wF",
        "outputId": "976792b4-5a6d-40b6-ba96-cd49743e5980",
        "colab": {
          "base_uri": "https://localhost:8080/"
        }
      },
      "source": [
        "k = ratings_train.shape[1]\n",
        "print('k: ', k)\n",
        "neigh = NearestNeighbors(n_neighbors=k, metric=\"cosine\")"
      ],
      "execution_count": 17,
      "outputs": [
        {
          "output_type": "stream",
          "text": [
            "k:  3952\n"
          ],
          "name": "stdout"
        }
      ]
    },
    {
      "cell_type": "code",
      "metadata": {
        "id": "JbuI5Z0tIM-H",
        "outputId": "0b8f8b49-8818-4326-9830-0bbf0faf2b7e",
        "colab": {
          "base_uri": "https://localhost:8080/"
        }
      },
      "source": [
        "print(ratings_train.T.shape)\n",
        "neigh.fit(ratings_train.T)"
      ],
      "execution_count": 27,
      "outputs": [
        {
          "output_type": "stream",
          "text": [
            "(3952, 4046)\n"
          ],
          "name": "stdout"
        },
        {
          "output_type": "execute_result",
          "data": {
            "text/plain": [
              "NearestNeighbors(algorithm='auto', leaf_size=30, metric='cosine',\n",
              "                 metric_params=None, n_jobs=None, n_neighbors=3952, p=2,\n",
              "                 radius=1.0)"
            ]
          },
          "metadata": {
            "tags": []
          },
          "execution_count": 27
        }
      ]
    },
    {
      "cell_type": "code",
      "metadata": {
        "id": "NqQRVSGnIRbG",
        "outputId": "3d0fb774-afac-4b9f-bc2c-459d2a0d46ff",
        "colab": {
          "base_uri": "https://localhost:8080/"
        }
      },
      "source": [
        "item_distances, _ = neigh.kneighbors(ratings_train.T, return_distance=True)\n",
        "\n",
        "print(item_distances.shape)\n",
        "print(item_distances[1, 0])\n",
        "item_distances"
      ],
      "execution_count": 30,
      "outputs": [
        {
          "output_type": "stream",
          "text": [
            "(3952, 3952)\n",
            "0.0\n"
          ],
          "name": "stdout"
        },
        {
          "output_type": "execute_result",
          "data": {
            "text/plain": [
              "array([[8.88178420e-16, 3.68442811e-01, 3.86433672e-01, ...,\n",
              "        1.00000000e+00, 1.00000000e+00, 1.00000000e+00],\n",
              "       [0.00000000e+00, 4.40673888e-01, 5.08666076e-01, ...,\n",
              "        1.00000000e+00, 1.00000000e+00, 1.00000000e+00],\n",
              "       [0.00000000e+00, 4.51909601e-01, 6.30625590e-01, ...,\n",
              "        1.00000000e+00, 1.00000000e+00, 1.00000000e+00],\n",
              "       ...,\n",
              "       [0.00000000e+00, 6.68115700e-01, 6.98463564e-01, ...,\n",
              "        1.00000000e+00, 1.00000000e+00, 1.00000000e+00],\n",
              "       [0.00000000e+00, 6.45419721e-01, 6.75422482e-01, ...,\n",
              "        1.00000000e+00, 1.00000000e+00, 1.00000000e+00],\n",
              "       [1.11022302e-16, 5.50665177e-01, 5.79996952e-01, ...,\n",
              "        1.00000000e+00, 1.00000000e+00, 1.00000000e+00]])"
            ]
          },
          "metadata": {
            "tags": []
          },
          "execution_count": 30
        }
      ]
    },
    {
      "cell_type": "code",
      "metadata": {
        "id": "s-f_VDiaSO3u"
      },
      "source": [
        "item_pred = ratings_train.dot(item_distances) / np.array([np.abs(item_distances).sum(axis=1)])"
      ],
      "execution_count": 31,
      "outputs": []
    },
    {
      "cell_type": "code",
      "metadata": {
        "id": "iuVJzd0ZSbLL",
        "outputId": "94a41bff-eec8-4bc2-ed25-6eef3db1aaf2",
        "colab": {
          "base_uri": "https://localhost:8080/"
        }
      },
      "source": [
        "item_pred.shape"
      ],
      "execution_count": 32,
      "outputs": [
        {
          "output_type": "execute_result",
          "data": {
            "text/plain": [
              "(4046, 3952)"
            ]
          },
          "metadata": {
            "tags": []
          },
          "execution_count": 32
        }
      ]
    },
    {
      "cell_type": "code",
      "metadata": {
        "id": "F11Peff5SgGj",
        "outputId": "a61670af-93c3-4367-85b9-60459512aefb",
        "colab": {
          "base_uri": "https://localhost:8080/"
        }
      },
      "source": [
        "np.sqrt(get_mse(item_pred, ratings_train))"
      ],
      "execution_count": 35,
      "outputs": [
        {
          "output_type": "execute_result",
          "data": {
            "text/plain": [
              "3.4381175344988635"
            ]
          },
          "metadata": {
            "tags": []
          },
          "execution_count": 35
        }
      ]
    },
    {
      "cell_type": "code",
      "metadata": {
        "id": "pxgSs3J4SqUr",
        "outputId": "05f9d501-c7f4-458a-e21c-be5866a44ae3",
        "colab": {
          "base_uri": "https://localhost:8080/"
        }
      },
      "source": [
        "np.sqrt(get_mse(item_pred, ratings_test))"
      ],
      "execution_count": 36,
      "outputs": [
        {
          "output_type": "execute_result",
          "data": {
            "text/plain": [
              "3.6155887611395037"
            ]
          },
          "metadata": {
            "tags": []
          },
          "execution_count": 36
        }
      ]
    }
  ]
}